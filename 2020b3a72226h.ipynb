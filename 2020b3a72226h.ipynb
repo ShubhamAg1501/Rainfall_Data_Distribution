{
  "cells": [
    {
      "cell_type": "markdown",
      "metadata": {
        "id": "-MEtrD8b0l1I"
      },
      "source": [
        "# Importing the Necessary Libraries"
      ]
    },
    {
      "cell_type": "code",
      "execution_count": 1,
      "metadata": {
        "id": "mCtuNq8tFnoG"
      },
      "outputs": [],
      "source": [
        "import pandas as pd\n",
        "import numpy as np\n",
        "import matplotlib.pyplot as plt\n",
        "from sklearn.preprocessing import StandardScaler, MinMaxScaler\n",
        "from sklearn.model_selection import train_test_split\n",
        "from sklearn.linear_model import LinearRegression\n",
        "from sklearn.metrics import mean_squared_error, r2_score,mean_absolute_error"
      ]
    },
    {
      "cell_type": "markdown",
      "metadata": {
        "id": "HXZRMH4706Sk"
      },
      "source": [
        "# Reading the Data from the Given Dataframe"
      ]
    },
    {
      "cell_type": "code",
      "execution_count": 2,
      "metadata": {
        "id": "4nb4Q8JMF32R"
      },
      "outputs": [],
      "source": [
        "header_names = ['YEAR','Rainfall in June']\n",
        "data = pd.read_csv('data.csv', usecols=header_names)\n"
      ]
    },
    {
      "cell_type": "code",
      "execution_count": 3,
      "metadata": {
        "colab": {
          "base_uri": "https://localhost:8080/"
        },
        "id": "gltFyiDvGyhU",
        "outputId": "f6d56622-8a06-448f-eb9b-893d8d02bd9d"
      },
      "outputs": [
        {
          "name": "stdout",
          "output_type": "stream",
          "text": [
            "<class 'pandas.core.frame.DataFrame'>\n",
            "RangeIndex: 117 entries, 0 to 116\n",
            "Data columns (total 2 columns):\n",
            " #   Column            Non-Null Count  Dtype  \n",
            "---  ------            --------------  -----  \n",
            " 0   YEAR              117 non-null    int64  \n",
            " 1   Rainfall in June  113 non-null    float64\n",
            "dtypes: float64(1), int64(1)\n",
            "memory usage: 2.0 KB\n",
            "\n",
            "Contents of the dataframe:\n",
            "\n",
            "     YEAR  Rainfall in June\n",
            "0    1901              22.7\n",
            "1    1902              59.9\n",
            "2    1903              26.2\n",
            "3    1904              53.4\n",
            "4    1905              23.1\n",
            "..    ...               ...\n",
            "112  2011             119.5\n",
            "113  2012              21.7\n",
            "114  2013             155.0\n",
            "115  2014              31.3\n",
            "116  2015              90.6\n",
            "\n",
            "[117 rows x 2 columns]\n"
          ]
        }
      ],
      "source": [
        "data.info()\n",
        "print(f'\\nContents of the dataframe:\\n')\n",
        "print(data)"
      ]
    },
    {
      "cell_type": "markdown",
      "metadata": {
        "id": "QRJw6GjJ1Geg"
      },
      "source": [
        "The data has 117 rows out of which 4 rows are empty"
      ]
    },
    {
      "cell_type": "markdown",
      "metadata": {
        "id": "aJy93Wc91Oao"
      },
      "source": [
        "# Displaying the Statistics of the given dataset"
      ]
    },
    {
      "cell_type": "code",
      "execution_count": 4,
      "metadata": {
        "colab": {
          "base_uri": "https://localhost:8080/",
          "height": 300
        },
        "id": "hvTar2bqISHM",
        "outputId": "7dc09fb6-a560-4034-b1ea-f4b5ccbac0d5"
      },
      "outputs": [
        {
          "data": {
            "text/html": [
              "<div>\n",
              "<style scoped>\n",
              "    .dataframe tbody tr th:only-of-type {\n",
              "        vertical-align: middle;\n",
              "    }\n",
              "\n",
              "    .dataframe tbody tr th {\n",
              "        vertical-align: top;\n",
              "    }\n",
              "\n",
              "    .dataframe thead th {\n",
              "        text-align: right;\n",
              "    }\n",
              "</style>\n",
              "<table border=\"1\" class=\"dataframe\">\n",
              "  <thead>\n",
              "    <tr style=\"text-align: right;\">\n",
              "      <th></th>\n",
              "      <th>YEAR</th>\n",
              "      <th>Rainfall in June</th>\n",
              "    </tr>\n",
              "  </thead>\n",
              "  <tbody>\n",
              "    <tr>\n",
              "      <th>count</th>\n",
              "      <td>117.000000</td>\n",
              "      <td>113.000000</td>\n",
              "    </tr>\n",
              "    <tr>\n",
              "      <th>mean</th>\n",
              "      <td>1958.606838</td>\n",
              "      <td>72.957522</td>\n",
              "    </tr>\n",
              "    <tr>\n",
              "      <th>std</th>\n",
              "      <td>33.389023</td>\n",
              "      <td>35.968989</td>\n",
              "    </tr>\n",
              "    <tr>\n",
              "      <th>min</th>\n",
              "      <td>1901.000000</td>\n",
              "      <td>17.700000</td>\n",
              "    </tr>\n",
              "    <tr>\n",
              "      <th>25%</th>\n",
              "      <td>1930.000000</td>\n",
              "      <td>48.500000</td>\n",
              "    </tr>\n",
              "    <tr>\n",
              "      <th>50%</th>\n",
              "      <td>1959.000000</td>\n",
              "      <td>69.900000</td>\n",
              "    </tr>\n",
              "    <tr>\n",
              "      <th>75%</th>\n",
              "      <td>1987.000000</td>\n",
              "      <td>90.600000</td>\n",
              "    </tr>\n",
              "    <tr>\n",
              "      <th>max</th>\n",
              "      <td>2015.000000</td>\n",
              "      <td>161.000000</td>\n",
              "    </tr>\n",
              "  </tbody>\n",
              "</table>\n",
              "</div>"
            ],
            "text/plain": [
              "              YEAR  Rainfall in June\n",
              "count   117.000000        113.000000\n",
              "mean   1958.606838         72.957522\n",
              "std      33.389023         35.968989\n",
              "min    1901.000000         17.700000\n",
              "25%    1930.000000         48.500000\n",
              "50%    1959.000000         69.900000\n",
              "75%    1987.000000         90.600000\n",
              "max    2015.000000        161.000000"
            ]
          },
          "execution_count": 4,
          "metadata": {},
          "output_type": "execute_result"
        }
      ],
      "source": [
        "data.describe()"
      ]
    },
    {
      "cell_type": "markdown",
      "metadata": {
        "id": "C5ZNujb61cnM"
      },
      "source": [
        "## Filling the missing values with the mean of the data = 72.957522\n"
      ]
    },
    {
      "cell_type": "code",
      "execution_count": 5,
      "metadata": {
        "colab": {
          "base_uri": "https://localhost:8080/"
        },
        "id": "vciJwZ8WIgz-",
        "outputId": "1067fd1e-bed9-4cd7-ad9b-4a5c0c31b217"
      },
      "outputs": [
        {
          "name": "stdout",
          "output_type": "stream",
          "text": [
            "     YEAR  Rainfall in June\n",
            "0    1901              22.7\n",
            "1    1902              59.9\n",
            "2    1903              26.2\n",
            "3    1904              53.4\n",
            "4    1905              23.1\n",
            "..    ...               ...\n",
            "112  2011             119.5\n",
            "113  2012              21.7\n",
            "114  2013             155.0\n",
            "115  2014              31.3\n",
            "116  2015              90.6\n",
            "\n",
            "[117 rows x 2 columns]\n"
          ]
        }
      ],
      "source": [
        "data['Rainfall in June'].fillna(data['Rainfall in June'].mean(),inplace=True)\n",
        "print(data)"
      ]
    },
    {
      "cell_type": "markdown",
      "metadata": {
        "id": "ANFE00ty1t1o"
      },
      "source": [
        "## Dropping duplicates"
      ]
    },
    {
      "cell_type": "code",
      "execution_count": 6,
      "metadata": {
        "colab": {
          "base_uri": "https://localhost:8080/"
        },
        "id": "eHapIiNG1vIW",
        "outputId": "ad5a177c-98be-4ca6-8fb6-5d81db5c0753"
      },
      "outputs": [
        {
          "name": "stdout",
          "output_type": "stream",
          "text": [
            "     YEAR  Rainfall in June\n",
            "0    1901              22.7\n",
            "1    1902              59.9\n",
            "2    1903              26.2\n",
            "3    1904              53.4\n",
            "4    1905              23.1\n",
            "..    ...               ...\n",
            "112  2011             119.5\n",
            "113  2012              21.7\n",
            "114  2013             155.0\n",
            "115  2014              31.3\n",
            "116  2015              90.6\n",
            "\n",
            "[115 rows x 2 columns]\n"
          ]
        }
      ],
      "source": [
        "data.drop_duplicates(inplace=True)\n",
        "print(data)"
      ]
    },
    {
      "cell_type": "code",
      "execution_count": 7,
      "metadata": {
        "colab": {
          "base_uri": "https://localhost:8080/"
        },
        "id": "sbO8bCI1a68P",
        "outputId": "3fe8e714-09f8-45d3-97cb-23cf892a3786"
      },
      "outputs": [
        {
          "name": "stdout",
          "output_type": "stream",
          "text": [
            "YEAR                0\n",
            "Rainfall in June    0\n",
            "dtype: int64\n"
          ]
        }
      ],
      "source": [
        "print(data.isnull().sum())"
      ]
    },
    {
      "cell_type": "code",
      "execution_count": 8,
      "metadata": {
        "colab": {
          "base_uri": "https://localhost:8080/",
          "height": 472
        },
        "id": "C2JpnbI0JgL-",
        "outputId": "5886f144-d4aa-466a-dd3f-4939631d40ff"
      },
      "outputs": [
        {
          "data": {
            "image/png": "[encoded data removed]",
            "text/plain": [
              "<Figure size 432x288 with 1 Axes>"
            ]
          },
          "metadata": {
            "needs_background": "light"
          },
          "output_type": "display_data"
        }
      ],
      "source": [
        "# Create a histogram plot\n",
        "plt.hist(data['Rainfall in June'],edgecolor='black')\n",
        "plt.title('Rainfall in June')\n",
        "plt.xlabel('Values in mm')\n",
        "plt.ylabel('Frequency')\n",
        "plt.grid(True)\n",
        "plt.show()"
      ]
    },
    {
      "cell_type": "markdown",
      "metadata": {
        "id": "J5KoEILDXZ9N"
      },
      "source": [
        "# The distribution is skewed to the right\n",
        "## This is confirmed by the fact that:\n",
        "mean(72.957522) > median(69.900000)\n"
      ]
    },
    {
      "cell_type": "code",
      "execution_count": 9,
      "metadata": {
        "id": "kkk2Q6ubXeBI"
      },
      "outputs": [],
      "source": [
        "# Statistics of data\n",
        "mean_rain = data['Rainfall in June'].mean()\n",
        "stddev_rain = np.sqrt(data['Rainfall in June'].var())\n",
        "min_rain = data['Rainfall in June'].min()\n",
        "max_rain = data['Rainfall in June'].max()\n",
        "minmax_rain = max_rain - min_rain\n",
        "mean_year = data['YEAR'].mean()\n",
        "stddev_year = np.sqrt(data['YEAR'].var())\n",
        "min_year = data['YEAR'].min()\n",
        "max_year = data['YEAR'].max()\n",
        "minmax_year = max_year - min_year\n",
        "\n"
      ]
    },
    {
      "cell_type": "code",
      "execution_count": 10,
      "metadata": {
        "id": "kooeOU5CKXmm"
      },
      "outputs": [],
      "source": [
        "scaler_standard = StandardScaler()\n",
        "data_standard_scaled = scaler_standard.fit_transform(data)\n",
        "scaler_minmax = MinMaxScaler()\n",
        "data_minmax_scaled = scaler_minmax.fit_transform(data)"
      ]
    },
    {
      "cell_type": "markdown",
      "metadata": {
        "id": "8wwzlImG-Xov"
      },
      "source": [
        "# Scaling the dataset\n"
      ]
    },
    {
      "cell_type": "code",
      "execution_count": 11,
      "metadata": {
        "colab": {
          "base_uri": "https://localhost:8080/"
        },
        "id": "34qwNq9Etir3",
        "outputId": "3e39a606-ee37-4445-9aee-bd665bff4b9b"
      },
      "outputs": [
        {
          "name": "stdout",
          "output_type": "stream",
          "text": [
            "Original Data:\n",
            "Year\n",
            "Min: 1901.0 \n",
            "Max: 2015.0\n",
            "Rainfall in June\n",
            "Min: 17.7 \n",
            "Max: 161.0\n",
            "\n",
            "Data after Standard Scaling:\n",
            "Year\n",
            "Min: -1.7170544144170172 \n",
            "Max: 1.7170544144170172\n",
            "Rainfall in June\n",
            "Min: -1.5642570781729244 \n",
            "Max: 2.5394825812129214\n",
            "\n",
            "Data after Min-Max Scaling:\n",
            "Year\n",
            "Min: 0.0 \n",
            "Max: 1.0\n",
            "Rainfall in June\n",
            "Min: 0.0 \n",
            "Max: 0.9999999999999999\n"
          ]
        }
      ],
      "source": [
        "print(\"Original Data:\")\n",
        "print(\"Year\\nMin:\", data.min()[0], \"\\nMax:\", data.max()[0])\n",
        "print(\"Rainfall in June\\nMin:\", data.min()[1], \"\\nMax:\", data.max()[1])\n",
        "\n",
        "print(\"\\nData after Standard Scaling:\")\n",
        "print(\"Year\\nMin:\", np.min(data_standard_scaled[:, 0]), \"\\nMax:\", np.max(data_standard_scaled[:, 0]))\n",
        "print(\"Rainfall in June\\nMin:\", np.min(data_standard_scaled[:, 1]), \"\\nMax:\", np.max(data_standard_scaled[:, 1]))\n",
        "\n",
        "print(\"\\nData after Min-Max Scaling:\")\n",
        "print(\"Year\\nMin:\", np.min(data_minmax_scaled[:, 0]), \"\\nMax:\", np.max(data_minmax_scaled[:, 0]))\n",
        "print(\"Rainfall in June\\nMin:\", np.min(data_minmax_scaled[:, 1]), \"\\nMax:\", np.max(data_minmax_scaled[:, 1]))"
      ]
    },
    {
      "cell_type": "markdown",
      "metadata": {
        "id": "HX5520IITm2N"
      },
      "source": [
        "# Linear Regression\n",
        "\n",
        "\n"
      ]
    },
    {
      "cell_type": "markdown",
      "metadata": {
        "id": "DA7umCdeT44N"
      },
      "source": [
        "## Regression on Original Data"
      ]
    },
    {
      "cell_type": "code",
      "execution_count": 12,
      "metadata": {
        "id": "yEOzxbAbkcvG"
      },
      "outputs": [],
      "source": [
        "X = data['YEAR'].values.reshape((-1,1))\n",
        "y = data['Rainfall in June']"
      ]
    },
    {
      "cell_type": "code",
      "execution_count": 13,
      "metadata": {
        "colab": {
          "base_uri": "https://localhost:8080/",
          "height": 524
        },
        "id": "Tdk9wVqgkfEb",
        "outputId": "3fd20bdf-9054-40e0-edcb-4601d5e854d3"
      },
      "outputs": [
        {
          "name": "stdout",
          "output_type": "stream",
          "text": [
            "Mean Squared Error(MSE): 1154.308249373061\n",
            "Root Mean Squared Error(RMSE): 33.97511220545211\n",
            "Mean Absolute Error(MAE): 24.389468072470223\n"
          ]
        },
        {
          "data": {
            "image/png": "[encoded data removed]",
            "text/plain": [
              "<Figure size 432x288 with 1 Axes>"
            ]
          },
          "metadata": {
            "needs_background": "light"
          },
          "output_type": "display_data"
        }
      ],
      "source": [
        "# Split the data into training and testing sets using the 80-20 rule\n",
        "X_train, X_test, y_train, y_test = train_test_split(X, y, test_size=0.2, random_state=100)\n",
        "# Build and train the Linear Regression model\n",
        "model = LinearRegression()\n",
        "# Build and train the Linear Regression model\n",
        "model.fit(X_train, y_train)\n",
        "\n",
        "# Make predictions on the test and train set\n",
        "y_test_pred = model.predict(X_test)\n",
        "y_train_pred = model.predict(X_train)\n",
        "mse = mean_squared_error(y_test, y_test_pred)\n",
        "mae = mean_absolute_error(y_test, y_test_pred)\n",
        "\n",
        "# Print the evaluation metrics\n",
        "print(f'Mean Squared Error(MSE): {mse}')\n",
        "print(f'Root Mean Squared Error(RMSE): {np.sqrt(mse)}')\n",
        "print(\"Mean Absolute Error(MAE):\", mae)\n",
        "\n",
        "plt.scatter(X_train, y_train)\n",
        "plt.plot(X_train, y_train_pred, color='red')\n",
        "plt.title('Regression on unscaled data with 80% training')\n",
        "plt.xlabel('Year')\n",
        "plt.ylabel('Rainfall')\n",
        "plt.show()"
      ]
    },
    {
      "cell_type": "code",
      "execution_count": 14,
      "metadata": {
        "colab": {
          "base_uri": "https://localhost:8080/",
          "height": 524
        },
        "id": "Tz7C2rIFkjea",
        "outputId": "7f1f18c4-6f5c-4a12-b7b1-1fbc2e7f3611"
      },
      "outputs": [
        {
          "name": "stdout",
          "output_type": "stream",
          "text": [
            "Mean Squared Error(MSE): 1159.2874484601118\n",
            "Root Mean Squared Error(RMSE): 34.04831050816048\n",
            "Mean Absolute Error(MAE): 24.574715287300346\n"
          ]
        },
        {
          "data": {
            "image/png": "[encoded data removed]",
            "text/plain": [
              "<Figure size 432x288 with 1 Axes>"
            ]
          },
          "metadata": {
            "needs_background": "light"
          },
          "output_type": "display_data"
        }
      ],
      "source": [
        "# Split the data into training and testing sets using the 70-30 rule\n",
        "X_train, X_test, y_train, y_test = train_test_split(X, y, test_size=0.3, random_state=100)\n",
        "model = LinearRegression()\n",
        "model.fit(X_train, y_train)\n",
        "\n",
        "# Make predictions on the test and train set\n",
        "y_test_pred = model.predict(X_test)\n",
        "y_train_pred = model.predict(X_train)\n",
        "mse = mean_squared_error(y_test, y_test_pred)\n",
        "mae = mean_absolute_error(y_test, y_test_pred)\n",
        "\n",
        "# Print the evaluation metrics\n",
        "print(f'Mean Squared Error(MSE): {mse}')\n",
        "print(f'Root Mean Squared Error(RMSE): {np.sqrt(mse)}')\n",
        "print(\"Mean Absolute Error(MAE):\", mae)\n",
        "\n",
        "plt.scatter(X_train, y_train)\n",
        "plt.plot(X_train, y_train_pred, color='red')\n",
        "plt.title('Regression on unscaled data with 70% training')\n",
        "plt.xlabel('Year')\n",
        "plt.ylabel('Rainfall')\n",
        "plt.show()"
      ]
    },
    {
      "cell_type": "markdown",
      "metadata": {
        "id": "qVhUeQwpUAR0"
      },
      "source": [
        "## Regression on Standard Scaled Data"
      ]
    },
    {
      "cell_type": "code",
      "execution_count": 15,
      "metadata": {
        "id": "3EAQX3Gqvlee"
      },
      "outputs": [],
      "source": [
        "X = data_standard_scaled[:,0].reshape(-1,1)\n",
        "y = data_standard_scaled[:,1]"
      ]
    },
    {
      "cell_type": "code",
      "execution_count": 16,
      "metadata": {
        "colab": {
          "base_uri": "https://localhost:8080/",
          "height": 524
        },
        "id": "YQqnC3c7v9Cx",
        "outputId": "18b05737-a801-4c35-b33d-b84c285df9b8"
      },
      "outputs": [
        {
          "name": "stdout",
          "output_type": "stream",
          "text": [
            "Mean Squared Error(MSE): 0.9466490892519815\n",
            "Root Mean Squared Error(RMSE): 0.972958935028597\n",
            "Mean Absolute Error(MAE): 0.698450993721709\n"
          ]
        },
        {
          "data": {
            "image/png": "[encoded data removed]",
            "text/plain": [
              "<Figure size 432x288 with 1 Axes>"
            ]
          },
          "metadata": {
            "needs_background": "light"
          },
          "output_type": "display_data"
        }
      ],
      "source": [
        "# Split the data into training and testing sets using the 80-20 rule\n",
        "X_train, X_test, y_train, y_test = train_test_split(X, y, test_size=0.2, random_state=100)\n",
        "model = LinearRegression()\n",
        "model.fit(X_train, y_train)\n",
        "\n",
        "# Make predictions on the test and train set\n",
        "y_test_pred = model.predict(X_test)\n",
        "y_train_pred = model.predict(X_train)\n",
        "mse = mean_squared_error(y_test, y_test_pred)\n",
        "mae = mean_absolute_error(y_test, y_test_pred)\n",
        "\n",
        "# Print the evaluation metrics\n",
        "print(f'Mean Squared Error(MSE): {mse}')\n",
        "print(f'Root Mean Squared Error(RMSE): {np.sqrt(mse)}')\n",
        "print(\"Mean Absolute Error(MAE):\", mae)\n",
        "\n",
        "X_train_original = (X_train * stddev_year)+mean_year\n",
        "y_train_original = (y_train * stddev_rain)+mean_rain\n",
        "y_train_pred_original = (y_train_pred * stddev_rain)+mean_rain\n",
        "\n",
        "\n",
        "plt.scatter(X_train_original, y_train_original)\n",
        "plt.plot(X_train_original, y_train_pred_original, color='red')\n",
        "plt.title('Regression on standard scaled data with 80% training')\n",
        "plt.xlabel('Year')\n",
        "plt.ylabel('Rainfall')\n",
        "plt.show()"
      ]
    },
    {
      "cell_type": "code",
      "execution_count": 17,
      "metadata": {
        "colab": {
          "base_uri": "https://localhost:8080/",
          "height": 524
        },
        "id": "c_iyBTZiwDD6",
        "outputId": "bcee92cf-0ca8-4149-b468-0ff0456dbea7"
      },
      "outputs": [
        {
          "name": "stdout",
          "output_type": "stream",
          "text": [
            "Mean Squared Error(MSE): 0.9507325342793566\n",
            "Root Mean Squared Error(RMSE): 0.975055144224857\n",
            "Mean Absolute Error(MAE): 0.703755992621145\n"
          ]
        },
        {
          "data": {
            "image/png": "[encoded data removed]",
            "text/plain": [
              "<Figure size 432x288 with 1 Axes>"
            ]
          },
          "metadata": {
            "needs_background": "light"
          },
          "output_type": "display_data"
        }
      ],
      "source": [
        "# Split the data into training and testing sets using the 70-30 rule\n",
        "X_train, X_test, y_train, y_test = train_test_split(X, y, test_size=0.3, random_state=100)\n",
        "model = LinearRegression()\n",
        "model.fit(X_train, y_train)\n",
        "\n",
        "# Make predictions on the test and train set\n",
        "y_test_pred = model.predict(X_test)\n",
        "y_train_pred = model.predict(X_train)\n",
        "mse = mean_squared_error(y_test, y_test_pred)\n",
        "mae = mean_absolute_error(y_test, y_test_pred)\n",
        "\n",
        "# Print the evaluation metrics\n",
        "print(f'Mean Squared Error(MSE): {mse}')\n",
        "print(f'Root Mean Squared Error(RMSE): {np.sqrt(mse)}')\n",
        "print(\"Mean Absolute Error(MAE):\", mae)\n",
        "\n",
        "X_train_original = (X_train * stddev_year)+mean_year\n",
        "y_train_original = (y_train * stddev_rain)+mean_rain\n",
        "y_train_pred_original = (y_train_pred * stddev_rain)+mean_rain\n",
        "\n",
        "plt.scatter(X_train_original, y_train_original)\n",
        "plt.plot(X_train_original, y_train_pred_original, color='red')\n",
        "plt.title('Regression on standard scaled data with 70% training')\n",
        "plt.xlabel('Year')\n",
        "plt.ylabel('Rainfall')\n",
        "plt.show()"
      ]
    },
    {
      "cell_type": "markdown",
      "metadata": {
        "id": "grsJ2-KmUJfJ"
      },
      "source": [
        "## Regression on MinMax Scaled Data"
      ]
    },
    {
      "cell_type": "code",
      "execution_count": 18,
      "metadata": {
        "id": "lY0gt_JSfT60"
      },
      "outputs": [],
      "source": [
        "X = data_minmax_scaled[:,0].reshape(-1,1)\n",
        "y = data_minmax_scaled[:,1]"
      ]
    },
    {
      "cell_type": "code",
      "execution_count": 19,
      "metadata": {
        "colab": {
          "base_uri": "https://localhost:8080/",
          "height": 524
        },
        "id": "Km7p2kaZfXcD",
        "outputId": "7ec4c631-b273-47bb-e272-4369e7912847"
      },
      "outputs": [
        {
          "name": "stdout",
          "output_type": "stream",
          "text": [
            "Mean Squared Error(MSE): 0.056212049315728534\n",
            "Root Mean Squared Error(RMSE): 0.23709080394593235\n",
            "Mean Absolute Error(MAE): 0.17019866065924788\n"
          ]
        },
        {
          "data": {
            "image/png": "[encoded data removed]",
            "text/plain": [
              "<Figure size 432x288 with 1 Axes>"
            ]
          },
          "metadata": {
            "needs_background": "light"
          },
          "output_type": "display_data"
        }
      ],
      "source": [
        "# Split the data into training and testing sets using the 80-20 rule\n",
        "X_train, X_test, y_train, y_test = train_test_split(X, y, test_size=0.2, random_state=100)\n",
        "model = LinearRegression()\n",
        "model.fit(X_train, y_train)\n",
        "\n",
        "# Make predictions on the test and train set\n",
        "y_test_pred = model.predict(X_test)\n",
        "y_train_pred = model.predict(X_train)\n",
        "mse = mean_squared_error(y_test, y_test_pred)\n",
        "mae = mean_absolute_error(y_test, y_test_pred)\n",
        "\n",
        "# Print the evaluation metrics\n",
        "print(f'Mean Squared Error(MSE): {mse}')\n",
        "print(f'Root Mean Squared Error(RMSE): {np.sqrt(mse)}')\n",
        "print(\"Mean Absolute Error(MAE):\", mae)\n",
        "\n",
        "X_train_original = (X_train * minmax_year)+min_year\n",
        "y_train_original = (y_train * minmax_rain)+min_rain\n",
        "y_train_pred_original = (y_train_pred * minmax_rain)+min_rain\n",
        "\n",
        "\n",
        "plt.scatter(X_train_original, y_train_original)\n",
        "plt.plot(X_train_original, y_train_pred_original, color='red')\n",
        "plt.title('Regression on minmax scaled data with 80% training')\n",
        "plt.xlabel('Year')\n",
        "plt.ylabel('Rainfall')\n",
        "plt.show()"
      ]
    },
    {
      "cell_type": "code",
      "execution_count": 20,
      "metadata": {
        "colab": {
          "base_uri": "https://localhost:8080/",
          "height": 524
        },
        "id": "BRHk3a_qfYe2",
        "outputId": "c2e77562-8e77-4c58-ec8a-771fe61fe7d7"
      },
      "outputs": [
        {
          "name": "stdout",
          "output_type": "stream",
          "text": [
            "Mean Squared Error(MSE): 0.056454524395315064\n",
            "Root Mean Squared Error(RMSE): 0.23760160857055465\n",
            "Mean Absolute Error(MAE): 0.17149138372156555\n"
          ]
        },
        {
          "data": {
            "image/png": "[encoded data removed]",
            "text/plain": [
              "<Figure size 432x288 with 1 Axes>"
            ]
          },
          "metadata": {
            "needs_background": "light"
          },
          "output_type": "display_data"
        }
      ],
      "source": [
        "# Split the data into training and testing sets using the 70-30 rule\n",
        "X_train, X_test, y_train, y_test = train_test_split(X, y, test_size=0.3, random_state=100)\n",
        "model = LinearRegression()\n",
        "model.fit(X_train, y_train)\n",
        "\n",
        "# Make predictions on the test and train set\n",
        "y_test_pred = model.predict(X_test)\n",
        "y_train_pred = model.predict(X_train)\n",
        "mse = mean_squared_error(y_test, y_test_pred)\n",
        "mae = mean_absolute_error(y_test, y_test_pred)\n",
        "\n",
        "# Print the evaluation metrics\n",
        "print(f'Mean Squared Error(MSE): {mse}')\n",
        "print(f'Root Mean Squared Error(RMSE): {np.sqrt(mse)}')\n",
        "print(\"Mean Absolute Error(MAE):\", mae)\n",
        "\n",
        "X_train_original = (X_train * minmax_year)+min_year\n",
        "y_train_original = (y_train * minmax_rain)+min_rain\n",
        "y_train_pred_original = (y_train_pred * minmax_rain)+min_rain\n",
        "\n",
        "plt.scatter(X_train_original, y_train_original)\n",
        "plt.plot(X_train_original, y_train_pred_original, color='red')\n",
        "plt.title('Regression on minmax scaled data with 70% training')\n",
        "plt.xlabel('Year')\n",
        "plt.ylabel('Rainfall')\n",
        "plt.show()"
      ]
    }
  ],
  "metadata": {
    "colab": {
      "provenance": []
    },
    "kernelspec": {
      "display_name": "Python 3",
      "name": "python3"
    },
    "language_info": {
      "codemirror_mode": {
        "name": "ipython",
        "version": 3
      },
      "file_extension": ".py",
      "mimetype": "text/x-python",
      "name": "python",
      "nbconvert_exporter": "python",
      "pygments_lexer": "ipython3",
      "version": "3.10.5"
    }
  },
  "nbformat": 4,
  "nbformat_minor": 0
}
